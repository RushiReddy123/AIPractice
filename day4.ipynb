{
 "cells": [
  {
   "cell_type": "code",
   "execution_count": 6,
   "id": "e857b721",
   "metadata": {},
   "outputs": [
    {
     "name": "stdout",
     "output_type": "stream",
     "text": [
      "Logistic Regression model accuracy: 96.49%\n"
     ]
    }
   ],
   "source": [
    "from sklearn.datasets import load_breast_cancer\n",
    "from sklearn.linear_model import LogisticRegression\n",
    "from sklearn.model_selection import train_test_split\n",
    "from sklearn.metrics import accuracy_score\n",
    "\n",
    "X, y = load_breast_cancer(return_X_y=True)\n",
    "\n",
    "X_train, X_test, y_train, y_test = train_test_split(X, y, test_size=0.20, random_state=23)\n",
    "\n",
    "clf = LogisticRegression(max_iter=10000, random_state=0)\n",
    "clf.fit(X_train, y_train)\n",
    "\n",
    "acc = accuracy_score(y_test, clf.predict(X_test)) * 100\n",
    "print(f\"Logistic Regression model accuracy: {acc:.2f}%\")"
   ]
  },
  {
   "cell_type": "code",
   "execution_count": 7,
   "id": "b2363e2f",
   "metadata": {},
   "outputs": [
    {
     "name": "stdout",
     "output_type": "stream",
     "text": [
      "Logistic Regression model accuracy: 96.66%\n"
     ]
    }
   ],
   "source": [
    "from sklearn.model_selection import train_test_split\n",
    "from sklearn import datasets, linear_model, metrics\n",
    "\n",
    "digits = datasets.load_digits()\n",
    "\n",
    "X = digits.data\n",
    "y = digits.target\n",
    "\n",
    "X_train, X_test, y_train, y_test = train_test_split(X, y, test_size=0.4, random_state=1)\n",
    "\n",
    "reg = linear_model.LogisticRegression(max_iter=10000, random_state=0)\n",
    "reg.fit(X_train, y_train)\n",
    "\n",
    "y_pred = reg.predict(X_test)\n",
    "\n",
    "print(f\"Logistic Regression model accuracy: {metrics.accuracy_score(y_test, y_pred) * 100:.2f}%\")"
   ]
  },
  {
   "cell_type": "code",
   "execution_count": null,
   "id": "a7f4698a",
   "metadata": {},
   "outputs": [
    {
     "name": "stdout",
     "output_type": "stream",
     "text": [
      "Decision Tree Predictions: [1 0]\n"
     ]
    }
   ],
   "source": [
    "from sklearn.tree import DecisionTreeClassifier\n",
    "import numpy as np\n",
    "\n",
    "X = np.array([\n",
    "    [160, 55],\n",
    "    [170, 65],\n",
    "    [180, 75],\n",
    "    [150, 50],\n",
    "    [175, 70],\n",
    "    [165, 60]\n",
    "])\n",
    "\n",
    "y = np.array([0, 1, 1, 0, 1, 0])\n",
    "\n",
    "dt_model = DecisionTreeClassifier()\n",
    "dt_model.fit(X, y)\n",
    "\n",
    "new_data = np.array([[172, 68], [155, 52]])\n",
    "predictions = dt_model.predict(new_data)\n",
    "\n",
    "print(\"Decision Tree Predictions:\", predictions)\n"
   ]
  },
  {
   "cell_type": "code",
   "execution_count": null,
   "id": "2d3c71f8",
   "metadata": {},
   "outputs": [
    {
     "name": "stdout",
     "output_type": "stream",
     "text": [
      "Random Forest Predictions: [1 0]\n"
     ]
    }
   ],
   "source": [
    "from sklearn.ensemble import RandomForestClassifier\n",
    "import numpy as np\n",
    "\n",
    "X = np.array([\n",
    "    [160, 55],\n",
    "    [170, 65],\n",
    "    [180, 75],\n",
    "    [150, 50],\n",
    "    [175, 70],\n",
    "    [165, 60]\n",
    "])\n",
    "\n",
    "y = np.array([0, 1, 1, 0, 1, 0])\n",
    "\n",
    "rf_model = RandomForestClassifier(n_estimators=10, random_state=42)\n",
    "rf_model.fit(X, y)\n",
    "\n",
    "new_data = np.array([[172, 68], [155, 52]])\n",
    "predictions = rf_model.predict(new_data)\n",
    "\n",
    "print(\"Random Forest Predictions:\", predictions)\n"
   ]
  },
  {
   "cell_type": "code",
   "execution_count": null,
   "id": "ee0abee5",
   "metadata": {},
   "outputs": [
    {
     "name": "stdout",
     "output_type": "stream",
     "text": [
      "k-NN Predictions: [1 0]\n"
     ]
    }
   ],
   "source": [
    "from sklearn.neighbors import KNeighborsClassifier\n",
    "import numpy as np\n",
    "\n",
    "X = np.array([\n",
    "    [160, 55],\n",
    "    [170, 65],\n",
    "    [180, 75],\n",
    "    [150, 50],\n",
    "    [175, 70],\n",
    "    [165, 60]\n",
    "])\n",
    "\n",
    "y = np.array([0, 1, 1, 0, 1, 0])\n",
    "\n",
    "knn_model = KNeighborsClassifier(n_neighbors=3)\n",
    "knn_model.fit(X, y)\n",
    "\n",
    "new_data = np.array([[172, 68], [155, 52]])\n",
    "predictions = knn_model.predict(new_data)\n",
    "\n",
    "print(\"k-NN Predictions:\", predictions)\n"
   ]
  },
  {
   "cell_type": "code",
   "execution_count": null,
   "id": "a525cff0",
   "metadata": {},
   "outputs": [
    {
     "name": "stdout",
     "output_type": "stream",
     "text": [
      "SVM Predictions: [1 0]\n"
     ]
    }
   ],
   "source": [
    "from sklearn.svm import SVC\n",
    "import numpy as np\n",
    "\n",
    "X = np.array([\n",
    "    [160, 55],\n",
    "    [170, 65],\n",
    "    [180, 75],\n",
    "    [150, 50],\n",
    "    [175, 70],\n",
    "    [165, 60]\n",
    "])\n",
    "\n",
    "y = np.array([0, 1, 1, 0, 1, 0])\n",
    "\n",
    "svm_model = SVC(kernel='linear')  \n",
    "svm_model.fit(X, y)\n",
    "\n",
    "new_data = np.array([[172, 68], [155, 52]])\n",
    "predictions = svm_model.predict(new_data)\n",
    "\n",
    "print(\"SVM Predictions:\", predictions)\n"
   ]
  },
  {
   "cell_type": "code",
   "execution_count": null,
   "id": "fc9a1957",
   "metadata": {},
   "outputs": [],
   "source": []
  },
  {
   "cell_type": "code",
   "execution_count": null,
   "id": "ca2ad0a4",
   "metadata": {},
   "outputs": [],
   "source": []
  },
  {
   "cell_type": "code",
   "execution_count": null,
   "id": "e56511ef",
   "metadata": {},
   "outputs": [],
   "source": []
  }
 ],
 "metadata": {
  "kernelspec": {
   "display_name": "Python 3",
   "language": "python",
   "name": "python3"
  },
  "language_info": {
   "codemirror_mode": {
    "name": "ipython",
    "version": 3
   },
   "file_extension": ".py",
   "mimetype": "text/x-python",
   "name": "python",
   "nbconvert_exporter": "python",
   "pygments_lexer": "ipython3",
   "version": "3.13.7"
  }
 },
 "nbformat": 4,
 "nbformat_minor": 5
}
