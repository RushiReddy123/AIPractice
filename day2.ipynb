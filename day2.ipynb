{
 "cells": [
  {
   "cell_type": "code",
   "execution_count": 1,
   "id": "e82a7993",
   "metadata": {},
   "outputs": [
    {
     "ename": "ModuleNotFoundError",
     "evalue": "No module named 'scipy'",
     "output_type": "error",
     "traceback": [
      "\u001b[31m---------------------------------------------------------------------------\u001b[39m",
      "\u001b[31mModuleNotFoundError\u001b[39m                       Traceback (most recent call last)",
      "\u001b[36mCell\u001b[39m\u001b[36m \u001b[39m\u001b[32mIn[1]\u001b[39m\u001b[32m, line 2\u001b[39m\n\u001b[32m      1\u001b[39m \u001b[38;5;28;01mimport\u001b[39;00m\u001b[38;5;250m \u001b[39m\u001b[34;01mnumpy\u001b[39;00m\u001b[38;5;250m \u001b[39m\u001b[38;5;28;01mas\u001b[39;00m\u001b[38;5;250m \u001b[39m\u001b[34;01mnp\u001b[39;00m\n\u001b[32m----> \u001b[39m\u001b[32m2\u001b[39m \u001b[38;5;28;01mfrom\u001b[39;00m\u001b[38;5;250m \u001b[39m\u001b[34;01mscipy\u001b[39;00m\u001b[38;5;250m \u001b[39m\u001b[38;5;28;01mimport\u001b[39;00m stats\n\u001b[32m      4\u001b[39m b = np.array([\u001b[32m120\u001b[39m, \u001b[32m122\u001b[39m, \u001b[32m118\u001b[39m, \u001b[32m130\u001b[39m, \u001b[32m125\u001b[39m, \u001b[32m128\u001b[39m, \u001b[32m115\u001b[39m, \u001b[32m121\u001b[39m, \u001b[32m123\u001b[39m, \u001b[32m119\u001b[39m])\n\u001b[32m      5\u001b[39m a = np.array([\u001b[32m115\u001b[39m, \u001b[32m120\u001b[39m, \u001b[32m112\u001b[39m, \u001b[32m128\u001b[39m, \u001b[32m122\u001b[39m, \u001b[32m125\u001b[39m, \u001b[32m110\u001b[39m, \u001b[32m117\u001b[39m, \u001b[32m119\u001b[39m, \u001b[32m114\u001b[39m])\n",
      "\u001b[31mModuleNotFoundError\u001b[39m: No module named 'scipy'"
     ]
    }
   ],
   "source": [
    "import numpy as np\n",
    "from scipy import stats\n",
    "\n",
    "b = np.array([120, 122, 118, 130, 125, 128, 115, 121, 123, 119])\n",
    "a = np.array([115, 120, 112, 128, 122, 125, 110, 117, 119, 114])\n",
    "\n",
    "alpha = 0.05\n",
    "\n",
    "t_stat, p_val = stats.ttest_rel(a, b)\n",
    "\n",
    "m = np.mean(a - b)\n",
    "s = np.std(a - b, ddof=1)\n",
    "n = len(b)\n",
    "t_manual = m / (s / np.sqrt(n))\n",
    "\n",
    "decision = \"Reject\" if p_val <= alpha else \"Fail reject\"\n",
    "concl = \"Significant difference.\" if decision == \"Reject\" else \"No significant difference.\"\n",
    "\n",
    "print(\"T:\", t_stat)\n",
    "print(\"P:\", p_val)\n",
    "print(\"T manual:\", t_manual)\n",
    "print(f\"Decision: {decision} H0 at α={alpha}\")\n",
    "print(\"Conclusion:\", concl)"
   ]
  }
 ],
 "metadata": {
  "kernelspec": {
   "display_name": "Python 3",
   "language": "python",
   "name": "python3"
  },
  "language_info": {
   "codemirror_mode": {
    "name": "ipython",
    "version": 3
   },
   "file_extension": ".py",
   "mimetype": "text/x-python",
   "name": "python",
   "nbconvert_exporter": "python",
   "pygments_lexer": "ipython3",
   "version": "3.13.7"
  }
 },
 "nbformat": 4,
 "nbformat_minor": 5
}
